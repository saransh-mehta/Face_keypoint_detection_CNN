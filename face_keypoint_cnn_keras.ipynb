{
 "cells": [
  {
   "cell_type": "code",
   "execution_count": 77,
   "metadata": {
    "collapsed": true
   },
   "outputs": [],
   "source": [
    "# here we r having 30 keypoints of faces in dataset and their corresponding grayscale images \n",
    "# 96 * 96,\n",
    "# data is in csv file where image and cordinates of feature r there, \n",
    "# we ll train our cnn to detect these points\n",
    "import os\n",
    "import pandas as pd\n",
    "import numpy as np\n",
    "import matplotlib.pyplot as plt"
   ]
  },
  {
   "cell_type": "code",
   "execution_count": 141,
   "metadata": {
    "collapsed": true
   },
   "outputs": [],
   "source": [
    "# first we ll process cdv data, training and test\n",
    "from sklearn.utils import shuffle\n",
    "from keras.layers.core import Dense, Activation, Dropout, Flatten\n",
    "from keras.layers.convolutional import Convolution2D, MaxPooling2D\n",
    "from keras.models import Sequential"
   ]
  },
  {
   "cell_type": "code",
   "execution_count": 122,
   "metadata": {
    "collapsed": true
   },
   "outputs": [],
   "source": [
    "path = os.path.abspath('face_keypoint_dataset')\n",
    "trainPath = os.path.join(path, 'training.csv')\n",
    "testPath = os.path.join(path, 'test.csv')"
   ]
  },
  {
   "cell_type": "code",
   "execution_count": 123,
   "metadata": {
    "collapsed": true,
    "scrolled": true
   },
   "outputs": [],
   "source": [
    "dfTrain = pd.read_csv(trainPath)\n",
    "dfTest = pd.read_csv(testPath)"
   ]
  },
  {
   "cell_type": "code",
   "execution_count": 124,
   "metadata": {
    "scrolled": true
   },
   "outputs": [
    {
     "data": {
      "text/plain": [
       "0       [238.0, 236.0, 237.0, 238.0, 240.0, 240.0, 239...\n",
       "1       [219.0, 215.0, 204.0, 196.0, 204.0, 211.0, 212...\n",
       "2       [144.0, 142.0, 159.0, 180.0, 188.0, 188.0, 184...\n",
       "3       [193.0, 192.0, 193.0, 194.0, 194.0, 194.0, 193...\n",
       "4       [147.0, 148.0, 160.0, 196.0, 215.0, 214.0, 216...\n",
       "5       [167.0, 169.0, 170.0, 167.0, 156.0, 145.0, 106...\n",
       "6       [109.0, 109.0, 125.0, 141.0, 145.0, 139.0, 120...\n",
       "7       [178.0, 177.0, 178.0, 179.0, 179.0, 179.0, 181...\n",
       "8       [164.0, 158.0, 118.0, 76.0, 66.0, 69.0, 59.0, ...\n",
       "9       [226.0, 227.0, 225.0, 224.0, 221.0, 220.0, 215...\n",
       "10      [52.0, 51.0, 54.0, 57.0, 57.0, 56.0, 55.0, 55....\n",
       "11      [142.0, 124.0, 123.0, 133.0, 140.0, 147.0, 151...\n",
       "12      [86.0, 93.0, 106.0, 114.0, 112.0, 110.0, 111.0...\n",
       "13      [75.0, 65.0, 63.0, 75.0, 70.0, 78.0, 84.0, 97....\n",
       "14      [119.0, 106.0, 101.0, 106.0, 89.0, 66.0, 67.0,...\n",
       "15      [52.0, 54.0, 74.0, 76.0, 55.0, 48.0, 47.0, 41....\n",
       "16      [201.0, 200.0, 202.0, 193.0, 124.0, 59.0, 53.0...\n",
       "17      [202.0, 201.0, 201.0, 202.0, 201.0, 200.0, 200...\n",
       "18      [181.0, 182.0, 182.0, 181.0, 182.0, 184.0, 186...\n",
       "19      [64.0, 56.0, 53.0, 51.0, 57.0, 74.0, 85.0, 86....\n",
       "20      [240.0, 240.0, 240.0, 239.0, 235.0, 233.0, 231...\n",
       "21      [245.0, 245.0, 245.0, 252.0, 210.0, 95.0, 46.0...\n",
       "22      [185.0, 185.0, 187.0, 185.0, 184.0, 184.0, 184...\n",
       "23      [241.0, 241.0, 241.0, 240.0, 241.0, 239.0, 235...\n",
       "24      [109.0, 106.0, 57.0, 10.0, 11.0, 18.0, 17.0, 1...\n",
       "25      [254.0, 254.0, 254.0, 254.0, 254.0, 254.0, 254...\n",
       "26      [5.0, 2.0, 5.0, 9.0, 10.0, 5.0, 6.0, 8.0, 4.0,...\n",
       "27      [196.0, 195.0, 192.0, 192.0, 191.0, 191.0, 189...\n",
       "28      [177.0, 175.0, 176.0, 175.0, 177.0, 177.0, 176...\n",
       "29      [160.0, 157.0, 159.0, 152.0, 143.0, 160.0, 176...\n",
       "                              ...                        \n",
       "7019    [66.0, 60.0, 81.0, 68.0, 66.0, 49.0, 41.0, 61....\n",
       "7020    [39.0, 33.0, 26.0, 20.0, 15.0, 12.0, 10.0, 8.0...\n",
       "7021    [75.0, 75.0, 76.0, 77.0, 78.0, 81.0, 86.0, 93....\n",
       "7022    [136.0, 145.0, 170.0, 181.0, 163.0, 149.0, 144...\n",
       "7023    [152.0, 149.0, 139.0, 129.0, 105.0, 81.0, 73.0...\n",
       "7024    [15.0, 15.0, 14.0, 13.0, 14.0, 14.0, 14.0, 19....\n",
       "7025    [47.0, 47.0, 47.0, 47.0, 46.0, 46.0, 47.0, 44....\n",
       "7026    [17.0, 19.0, 19.0, 19.0, 18.0, 16.0, 15.0, 13....\n",
       "7027    [28.0, 28.0, 26.0, 25.0, 24.0, 26.0, 37.0, 38....\n",
       "7028    [85.0, 86.0, 86.0, 86.0, 84.0, 84.0, 84.0, 83....\n",
       "7029    [17.0, 17.0, 17.0, 17.0, 17.0, 17.0, 17.0, 17....\n",
       "7030    [18.0, 38.0, 48.0, 36.0, 18.0, 14.0, 13.0, 11....\n",
       "7031    [8.0, 15.0, 20.0, 16.0, 12.0, 10.0, 11.0, 19.0...\n",
       "7032    [196.0, 180.0, 171.0, 159.0, 153.0, 156.0, 160...\n",
       "7033    [146.0, 142.0, 153.0, 168.0, 133.0, 54.0, 22.0...\n",
       "7034    [65.0, 62.0, 67.0, 96.0, 99.0, 94.0, 82.0, 56....\n",
       "7035    [155.0, 157.0, 159.0, 157.0, 157.0, 159.0, 161...\n",
       "7036    [247.0, 244.0, 241.0, 238.0, 233.0, 227.0, 218...\n",
       "7037    [242.0, 244.0, 247.0, 226.0, 212.0, 226.0, 237...\n",
       "7038    [59.0, 55.0, 59.0, 65.0, 93.0, 145.0, 185.0, 2...\n",
       "7039    [43.0, 49.0, 57.0, 67.0, 81.0, 98.0, 97.0, 94....\n",
       "7040    [139.0, 140.0, 143.0, 141.0, 141.0, 140.0, 140...\n",
       "7041    [164.0, 165.0, 167.0, 168.0, 169.0, 170.0, 172...\n",
       "7042    [254.0, 235.0, 191.0, 141.0, 106.0, 93.0, 94.0...\n",
       "7043    [150.0, 150.0, 132.0, 63.0, 44.0, 74.0, 86.0, ...\n",
       "7044    [71.0, 74.0, 85.0, 105.0, 116.0, 128.0, 139.0,...\n",
       "7045    [60.0, 60.0, 62.0, 57.0, 55.0, 51.0, 49.0, 48....\n",
       "7046    [74.0, 74.0, 74.0, 78.0, 79.0, 79.0, 79.0, 81....\n",
       "7047    [254.0, 254.0, 254.0, 254.0, 254.0, 238.0, 193...\n",
       "7048    [53.0, 62.0, 67.0, 76.0, 86.0, 91.0, 97.0, 105...\n",
       "Name: Image, Length: 7049, dtype: object"
      ]
     },
     "execution_count": 124,
     "metadata": {},
     "output_type": "execute_result"
    }
   ],
   "source": [
    "# now the image column is having values of pixels in a string format for each row\n",
    "# first we ll do it for train, and then for can b done for test\n",
    "\n",
    "# we ll convert the string to numpy array, the values are separated by 'space' \n",
    "dfTrain['Image'] = dfTrain['Image'].apply(lambda img: np.fromstring(img, sep = ' ', dtype = np.float32)) \n",
    "dfTrain['Image']\n"
   ]
  },
  {
   "cell_type": "code",
   "execution_count": 125,
   "metadata": {
    "scrolled": true
   },
   "outputs": [
    {
     "data": {
      "text/plain": [
       "left_eye_center_x            7039\n",
       "left_eye_center_y            7039\n",
       "right_eye_center_x           7036\n",
       "right_eye_center_y           7036\n",
       "left_eye_inner_corner_x      2271\n",
       "left_eye_inner_corner_y      2271\n",
       "left_eye_outer_corner_x      2267\n",
       "left_eye_outer_corner_y      2267\n",
       "right_eye_inner_corner_x     2268\n",
       "right_eye_inner_corner_y     2268\n",
       "right_eye_outer_corner_x     2268\n",
       "right_eye_outer_corner_y     2268\n",
       "left_eyebrow_inner_end_x     2270\n",
       "left_eyebrow_inner_end_y     2270\n",
       "left_eyebrow_outer_end_x     2225\n",
       "left_eyebrow_outer_end_y     2225\n",
       "right_eyebrow_inner_end_x    2270\n",
       "right_eyebrow_inner_end_y    2270\n",
       "right_eyebrow_outer_end_x    2236\n",
       "right_eyebrow_outer_end_y    2236\n",
       "nose_tip_x                   7049\n",
       "nose_tip_y                   7049\n",
       "mouth_left_corner_x          2269\n",
       "mouth_left_corner_y          2269\n",
       "mouth_right_corner_x         2270\n",
       "mouth_right_corner_y         2270\n",
       "mouth_center_top_lip_x       2275\n",
       "mouth_center_top_lip_y       2275\n",
       "mouth_center_bottom_lip_x    7016\n",
       "mouth_center_bottom_lip_y    7016\n",
       "Image                        7049\n",
       "dtype: int64"
      ]
     },
     "execution_count": 125,
     "metadata": {},
     "output_type": "execute_result"
    }
   ],
   "source": [
    "dfTrain.count()"
   ]
  },
  {
   "cell_type": "code",
   "execution_count": 126,
   "metadata": {
    "scrolled": true
   },
   "outputs": [
    {
     "data": {
      "text/plain": [
       "left_eye_center_x            2140\n",
       "left_eye_center_y            2140\n",
       "right_eye_center_x           2140\n",
       "right_eye_center_y           2140\n",
       "left_eye_inner_corner_x      2140\n",
       "left_eye_inner_corner_y      2140\n",
       "left_eye_outer_corner_x      2140\n",
       "left_eye_outer_corner_y      2140\n",
       "right_eye_inner_corner_x     2140\n",
       "right_eye_inner_corner_y     2140\n",
       "right_eye_outer_corner_x     2140\n",
       "right_eye_outer_corner_y     2140\n",
       "left_eyebrow_inner_end_x     2140\n",
       "left_eyebrow_inner_end_y     2140\n",
       "left_eyebrow_outer_end_x     2140\n",
       "left_eyebrow_outer_end_y     2140\n",
       "right_eyebrow_inner_end_x    2140\n",
       "right_eyebrow_inner_end_y    2140\n",
       "right_eyebrow_outer_end_x    2140\n",
       "right_eyebrow_outer_end_y    2140\n",
       "nose_tip_x                   2140\n",
       "nose_tip_y                   2140\n",
       "mouth_left_corner_x          2140\n",
       "mouth_left_corner_y          2140\n",
       "mouth_right_corner_x         2140\n",
       "mouth_right_corner_y         2140\n",
       "mouth_center_top_lip_x       2140\n",
       "mouth_center_top_lip_y       2140\n",
       "mouth_center_bottom_lip_x    2140\n",
       "mouth_center_bottom_lip_y    2140\n",
       "Image                        2140\n",
       "dtype: int64"
      ]
     },
     "execution_count": 126,
     "metadata": {},
     "output_type": "execute_result"
    }
   ],
   "source": [
    "# since all of the 7k images r not having labels for all 30 keypoints, only 2k are having\n",
    "# so initially we ll go with those 2k images which r hving full 30 points\n",
    "dfTrain = dfTrain.dropna()\n",
    "dfTrain.count()"
   ]
  },
  {
   "cell_type": "code",
   "execution_count": 127,
   "metadata": {},
   "outputs": [
    {
     "data": {
      "text/plain": [
       "(2140, 96, 96, 1)"
      ]
     },
     "execution_count": 127,
     "metadata": {},
     "output_type": "execute_result"
    }
   ],
   "source": [
    "# now we ll create numpy array of xTrain dataset,\n",
    "# shape need to be (2140, 96, 96) as channel is one\n",
    "\n",
    "xt = np.vstack(dfTrain['Image'])\n",
    "# this will vertically join the image column\n",
    "# this will give (2140, 9216) as 96*96 = 9216\n",
    "xt = xt / 255 # normalization\n",
    "# now we ll reshape in (2140, 96, 96)\n",
    "x = []\n",
    "\n",
    "for image in xt:\n",
    "    imgMat = image.reshape(96, 96, 1)\n",
    "    x.append(imgMat)\n",
    "x = np.array(x)\n",
    "x.shape"
   ]
  },
  {
   "cell_type": "code",
   "execution_count": 128,
   "metadata": {},
   "outputs": [
    {
     "data": {
      "text/plain": [
       "(2140, 30)"
      ]
     },
     "execution_count": 128,
     "metadata": {},
     "output_type": "execute_result"
    }
   ],
   "source": [
    "# y will only be for train\n",
    "# y will be the array of values of all columns but the last column which is the image\n",
    "y = dfTrain[ dfTrain.columns[:-1] ].values\n",
    "# thus y is of the shape (2140, 30)\n",
    "# 30 cordinate of keypoint for all 2140 images\n",
    "\n",
    "y = (y - 48) / 48\n",
    "# normalizing y data to (-1, 1)\n",
    "y = y.astype(np.float32)\n",
    "y.shape"
   ]
  },
  {
   "cell_type": "code",
   "execution_count": 129,
   "metadata": {
    "collapsed": true
   },
   "outputs": [],
   "source": [
    "# now we ll shuffle the training data\n",
    "\n",
    "x, y = shuffle(x, y, random_state = 42)"
   ]
  },
  {
   "cell_type": "code",
   "execution_count": 130,
   "metadata": {},
   "outputs": [
    {
     "data": {
      "text/plain": [
       "ImageId    1783\n",
       "Image      1783\n",
       "dtype: int64"
      ]
     },
     "execution_count": 130,
     "metadata": {},
     "output_type": "execute_result"
    }
   ],
   "source": [
    "# similarly we process test data, just test is not having y\n",
    "\n",
    "dfTest['Image'] = dfTest['Image'].apply(lambda img: np.fromstring(img, sep = ' ', dtype = np.float32))\n",
    "dfTest = dfTest.dropna()\n",
    "dfTest.count()"
   ]
  },
  {
   "cell_type": "code",
   "execution_count": 131,
   "metadata": {
    "scrolled": true
   },
   "outputs": [
    {
     "data": {
      "text/plain": [
       "0       [182.0, 183.0, 182.0, 182.0, 180.0, 180.0, 176...\n",
       "1       [76.0, 87.0, 81.0, 72.0, 65.0, 59.0, 64.0, 76....\n",
       "2       [177.0, 176.0, 174.0, 170.0, 169.0, 169.0, 168...\n",
       "3       [176.0, 174.0, 174.0, 175.0, 174.0, 174.0, 176...\n",
       "4       [50.0, 47.0, 44.0, 101.0, 144.0, 149.0, 120.0,...\n",
       "5       [177.0, 177.0, 177.0, 171.0, 142.0, 115.0, 97....\n",
       "6       [77.0, 55.0, 44.0, 56.0, 58.0, 61.0, 67.0, 66....\n",
       "7       [156.0, 160.0, 162.0, 166.0, 150.0, 114.0, 97....\n",
       "8       [230.0, 230.0, 231.0, 231.0, 231.0, 231.0, 231...\n",
       "9       [132.0, 129.0, 126.0, 128.0, 146.0, 163.0, 170...\n",
       "10      [182.0, 182.0, 182.0, 182.0, 182.0, 181.0, 183...\n",
       "11      [207.0, 205.0, 204.0, 202.0, 205.0, 197.0, 184...\n",
       "12      [121.0, 83.0, 58.0, 41.0, 37.0, 36.0, 33.0, 33...\n",
       "13      [89.0, 60.0, 63.0, 65.0, 65.0, 84.0, 64.0, 35....\n",
       "14      [88.0, 112.0, 132.0, 132.0, 133.0, 135.0, 131....\n",
       "15      [153.0, 153.0, 155.0, 156.0, 155.0, 154.0, 153...\n",
       "16      [97.0, 101.0, 98.0, 92.0, 91.0, 91.0, 95.0, 99...\n",
       "17      [253.0, 252.0, 254.0, 236.0, 173.0, 103.0, 67....\n",
       "18      [244.0, 245.0, 250.0, 183.0, 82.0, 64.0, 60.0,...\n",
       "19      [121.0, 122.0, 124.0, 123.0, 133.0, 157.0, 163...\n",
       "20      [252.0, 252.0, 251.0, 249.0, 251.0, 249.0, 246...\n",
       "21      [178.0, 180.0, 181.0, 182.0, 182.0, 181.0, 185...\n",
       "22      [170.0, 170.0, 167.0, 170.0, 168.0, 170.0, 168...\n",
       "23      [202.0, 202.0, 205.0, 204.0, 206.0, 206.0, 206...\n",
       "24      [119.0, 116.0, 106.0, 98.0, 88.0, 70.0, 55.0, ...\n",
       "25      [217.0, 212.0, 133.0, 36.0, 20.0, 27.0, 20.0, ...\n",
       "26      [115.0, 106.0, 100.0, 89.0, 83.0, 85.0, 84.0, ...\n",
       "27      [178.0, 179.0, 181.0, 178.0, 176.0, 172.0, 166...\n",
       "28      [171.0, 158.0, 97.0, 49.0, 43.0, 38.0, 34.0, 2...\n",
       "29      [254.0, 254.0, 254.0, 242.0, 180.0, 118.0, 92....\n",
       "                              ...                        \n",
       "1753    [53.0, 54.0, 51.0, 50.0, 49.0, 52.0, 53.0, 49....\n",
       "1754    [60.0, 61.0, 65.0, 69.0, 75.0, 87.0, 105.0, 11...\n",
       "1755    [66.0, 67.0, 69.0, 71.0, 72.0, 73.0, 73.0, 69....\n",
       "1756    [133.0, 129.0, 129.0, 129.0, 130.0, 133.0, 133...\n",
       "1757    [191.0, 223.0, 233.0, 248.0, 250.0, 231.0, 229...\n",
       "1758    [169.0, 154.0, 142.0, 146.0, 127.0, 114.0, 107...\n",
       "1759    [164.0, 164.0, 164.0, 164.0, 162.0, 159.0, 160...\n",
       "1760    [46.0, 61.0, 78.0, 92.0, 84.0, 71.0, 53.0, 62....\n",
       "1761    [111.0, 124.0, 129.0, 121.0, 105.0, 92.0, 93.0...\n",
       "1762    [9.0, 11.0, 9.0, 8.0, 7.0, 11.0, 9.0, 6.0, 8.0...\n",
       "1763    [26.0, 23.0, 18.0, 17.0, 16.0, 17.0, 17.0, 16....\n",
       "1764    [115.0, 94.0, 49.0, 55.0, 87.0, 101.0, 105.0, ...\n",
       "1765    [195.0, 200.0, 165.0, 145.0, 157.0, 140.0, 75....\n",
       "1766    [182.0, 185.0, 178.0, 190.0, 173.0, 161.0, 164...\n",
       "1767    [255.0, 255.0, 255.0, 255.0, 255.0, 255.0, 255...\n",
       "1768    [150.0, 170.0, 177.0, 180.0, 171.0, 181.0, 175...\n",
       "1769    [129.0, 179.0, 157.0, 123.0, 98.0, 89.0, 96.0,...\n",
       "1770    [59.0, 59.0, 64.0, 59.0, 57.0, 57.0, 59.0, 58....\n",
       "1771    [130.0, 120.0, 110.0, 111.0, 126.0, 137.0, 110...\n",
       "1772    [129.0, 122.0, 91.0, 64.0, 65.0, 73.0, 69.0, 6...\n",
       "1773    [213.0, 213.0, 212.0, 213.0, 213.0, 212.0, 188...\n",
       "1774    [123.0, 131.0, 106.0, 54.0, 24.0, 20.0, 17.0, ...\n",
       "1775    [142.0, 131.0, 114.0, 108.0, 107.0, 125.0, 145...\n",
       "1776    [71.0, 71.0, 70.0, 69.0, 69.0, 70.0, 74.0, 77....\n",
       "1777    [100.0, 106.0, 105.0, 106.0, 105.0, 104.0, 104...\n",
       "1778    [101.0, 101.0, 101.0, 100.0, 100.0, 97.0, 97.0...\n",
       "1779    [201.0, 191.0, 171.0, 158.0, 145.0, 140.0, 136...\n",
       "1780    [28.0, 28.0, 29.0, 30.0, 31.0, 32.0, 33.0, 34....\n",
       "1781    [104.0, 95.0, 71.0, 57.0, 46.0, 52.0, 65.0, 70...\n",
       "1782    [63.0, 61.0, 64.0, 66.0, 66.0, 64.0, 65.0, 70....\n",
       "Name: Image, Length: 1783, dtype: object"
      ]
     },
     "execution_count": 131,
     "metadata": {},
     "output_type": "execute_result"
    }
   ],
   "source": [
    "dfTest['Image']"
   ]
  },
  {
   "cell_type": "code",
   "execution_count": 132,
   "metadata": {},
   "outputs": [
    {
     "data": {
      "text/plain": [
       "(1783, 96, 96, 1)"
      ]
     },
     "execution_count": 132,
     "metadata": {},
     "output_type": "execute_result"
    }
   ],
   "source": [
    "xT = np.vstack(dfTest['Image'])\n",
    "# this will vertically join the image column\n",
    "# this will give (2140, 9216) as 96*96 = 9216\n",
    "xT = xT / 255 # normalization\n",
    "xT.shape\n",
    "# here we see we have 1783 images for test\n",
    "\n",
    "# now similarly we ll reshape\n",
    "xTest = []\n",
    "\n",
    "for image in xT:\n",
    "    imgMat = image.reshape(96, 96, 1)\n",
    "    xTest.append(imgMat)\n",
    "xTest = np.array(xTest)\n",
    "xTest.shape"
   ]
  },
  {
   "cell_type": "code",
   "execution_count": 134,
   "metadata": {
    "scrolled": true
   },
   "outputs": [
    {
     "data": {
      "image/png": "[encoded data removed]",
      "text/plain": [
       "<matplotlib.figure.Figure at 0x7efd4d459470>"
      ]
     },
     "metadata": {},
     "output_type": "display_data"
    }
   ],
   "source": [
    "# now lets see our images\n",
    "imgNo = 369\n",
    "xPlot = x[imgNo].reshape(96, 96)\n",
    "plt.imshow(xPlot, cmap = 'gray')\n",
    "plt.show()"
   ]
  },
  {
   "cell_type": "code",
   "execution_count": 135,
   "metadata": {
    "collapsed": true
   },
   "outputs": [],
   "source": [
    "# now we will define the hyperparameters for our model\n",
    "\n",
    "batchSize = 128\n",
    "\n",
    "#epochs = 3000\n",
    "\n",
    "imgRows = 96\n",
    "imgCols = 96\n",
    "# we wont define no. of classes as this is not classification\n",
    "\n",
    "filters = 32\n",
    "filterSize = (3, 3)\n",
    "poolSize = (2, 2)"
   ]
  },
  {
   "cell_type": "code",
   "execution_count": 142,
   "metadata": {
    "collapsed": true
   },
   "outputs": [],
   "source": [
    "# now we ll build the model\n",
    "model = Sequential()\n",
    "model.add(Convolution2D(filters = 32, kernel_size = filterSize, \n",
    "                       input_shape = (imgRows, imgCols, 1), padding = 'valid' ))\n",
    "# we have to give shape to first cnn layer for keras,\n",
    "# here channel is 1 so 3rd dimension is 1\n",
    "convOut1 = Activation('relu')\n",
    "model.add(convOut1)\n",
    "\n",
    "model.add(MaxPooling2D(pool_size = poolSize))\n",
    "\n",
    "model.add(Dropout(0.5))\n",
    "\n",
    "model.add(Convolution2D(filters = 64, kernel_size = filterSize))\n",
    "convOut2 = Activation('relu')\n",
    "model.add(convOut2)\n",
    "\n",
    "\n",
    "model.add(MaxPooling2D(pool_size = poolSize))\n",
    "\n",
    "model.add(Dropout(0.5))\n",
    "\n",
    "\n",
    "model.add(Convolution2D(filters = 128, kernel_size = filterSize))\n",
    "convOut2 = Activation('relu')\n",
    "model.add(convOut2)\n",
    "\n",
    "model.add(MaxPooling2D(pool_size = poolSize))\n",
    "\n",
    "model.add(Dropout(0.5))\n",
    "\n",
    "model.add(Flatten())\n",
    "\n",
    "model.add(Dense(500))\n",
    "convOut3 = Activation('relu')\n",
    "\n",
    "model.add(Dropout(0.5))\n",
    "\n",
    "model.add(Dense(500))\n",
    "convOut4 = Activation('relu')\n",
    "\n",
    "model.add(Dense(30))\n"
   ]
  },
  {
   "cell_type": "code",
   "execution_count": 145,
   "metadata": {
    "collapsed": true
   },
   "outputs": [],
   "source": [
    "model.compile(loss = 'mean_squared_error', optimizer = 'Adam')"
   ]
  },
  {
   "cell_type": "code",
   "execution_count": 146,
   "metadata": {},
   "outputs": [
    {
     "name": "stdout",
     "output_type": "stream",
     "text": [
      "Epoch 1/500\n",
      "2140/2140 [==============================] - 58s - loss: 1.4019    \n",
      "Epoch 2/500\n",
      "2140/2140 [==============================] - 52s - loss: 0.0254    \n",
      "Epoch 3/500\n",
      "2140/2140 [==============================] - 52s - loss: 0.0136    \n",
      "Epoch 4/500\n",
      "2140/2140 [==============================] - 51s - loss: 0.0106    \n",
      "Epoch 5/500\n",
      "2140/2140 [==============================] - 54s - loss: 0.0092    \n",
      "Epoch 6/500\n",
      "2140/2140 [==============================] - 54s - loss: 0.0086    \n",
      "Epoch 7/500\n",
      "2140/2140 [==============================] - 52s - loss: 0.0083    \n",
      "Epoch 8/500\n",
      "2140/2140 [==============================] - 53s - loss: 0.0080    \n",
      "Epoch 9/500\n",
      "2140/2140 [==============================] - 53s - loss: 0.0077    \n",
      "Epoch 10/500\n",
      "2140/2140 [==============================] - 52s - loss: 0.0074    \n",
      "Epoch 11/500\n",
      "2140/2140 [==============================] - 54s - loss: 0.0073    \n",
      "Epoch 12/500\n",
      "2140/2140 [==============================] - 52s - loss: 0.0070    \n",
      "Epoch 13/500\n",
      "2140/2140 [==============================] - 59s - loss: 0.0070    \n",
      "Epoch 14/500\n",
      "2140/2140 [==============================] - 60s - loss: 0.0067    \n",
      "Epoch 15/500\n",
      "2140/2140 [==============================] - 59s - loss: 0.0067    \n",
      "Epoch 16/500\n",
      "2140/2140 [==============================] - 58s - loss: 0.0065    \n",
      "Epoch 17/500\n",
      "2140/2140 [==============================] - 59s - loss: 0.0063    \n",
      "Epoch 18/500\n",
      "2140/2140 [==============================] - 55s - loss: 0.0062    \n",
      "Epoch 19/500\n",
      "2140/2140 [==============================] - 59s - loss: 0.0061    \n",
      "Epoch 20/500\n",
      "2140/2140 [==============================] - 57s - loss: 0.0059    \n",
      "Epoch 21/500\n",
      "2140/2140 [==============================] - 56s - loss: 0.0058    \n",
      "Epoch 22/500\n",
      "2140/2140 [==============================] - 55s - loss: 0.0057    \n",
      "Epoch 23/500\n",
      "2140/2140 [==============================] - 54s - loss: 0.0056    \n",
      "Epoch 24/500\n",
      "2140/2140 [==============================] - 55s - loss: 0.0056    \n",
      "Epoch 25/500\n",
      "2140/2140 [==============================] - 53s - loss: 0.0055    \n",
      "Epoch 26/500\n",
      " 256/2140 [==>...........................] - ETA: 50s - loss: 0.0060"
     ]
    },
    {
     "ename": "KeyboardInterrupt",
     "evalue": "",
     "output_type": "error",
     "traceback": [
      "\u001b[0;31m---------------------------------------------------------------------------\u001b[0m",
      "\u001b[0;31mKeyboardInterrupt\u001b[0m                         Traceback (most recent call last)",
      "\u001b[0;32m<ipython-input-146-aa87aa86c74e>\u001b[0m in \u001b[0;36m<module>\u001b[0;34m()\u001b[0m\n\u001b[1;32m      1\u001b[0m \u001b[0mepochs\u001b[0m \u001b[0;34m=\u001b[0m \u001b[0;36m500\u001b[0m\u001b[0;34m\u001b[0m\u001b[0m\n\u001b[1;32m      2\u001b[0m \u001b[0;32mfor\u001b[0m \u001b[0mi\u001b[0m \u001b[0;32min\u001b[0m \u001b[0mrange\u001b[0m\u001b[0;34m(\u001b[0m\u001b[0;36m6\u001b[0m\u001b[0;34m)\u001b[0m\u001b[0;34m:\u001b[0m\u001b[0;34m\u001b[0m\u001b[0m\n\u001b[0;32m----> 3\u001b[0;31m     \u001b[0mmodel\u001b[0m\u001b[0;34m.\u001b[0m\u001b[0mfit\u001b[0m\u001b[0;34m(\u001b[0m\u001b[0mx\u001b[0m\u001b[0;34m,\u001b[0m \u001b[0my\u001b[0m\u001b[0;34m,\u001b[0m \u001b[0mbatch_size\u001b[0m \u001b[0;34m=\u001b[0m \u001b[0mbatchSize\u001b[0m\u001b[0;34m,\u001b[0m \u001b[0mepochs\u001b[0m \u001b[0;34m=\u001b[0m \u001b[0mepochs\u001b[0m\u001b[0;34m,\u001b[0m \u001b[0mverbose\u001b[0m \u001b[0;34m=\u001b[0m \u001b[0;36m1\u001b[0m\u001b[0;34m)\u001b[0m\u001b[0;34m\u001b[0m\u001b[0m\n\u001b[0m\u001b[1;32m      4\u001b[0m     \u001b[0mmodel\u001b[0m\u001b[0;34m.\u001b[0m\u001b[0msave\u001b[0m\u001b[0;34m(\u001b[0m\u001b[0;34m'CNN_face_keypoint'\u001b[0m \u001b[0;34m+\u001b[0m \u001b[0mstr\u001b[0m\u001b[0;34m(\u001b[0m\u001b[0;34m(\u001b[0m\u001b[0mepochs\u001b[0m \u001b[0;34m*\u001b[0m \u001b[0mi\u001b[0m \u001b[0;34m+\u001b[0m \u001b[0;36m500\u001b[0m\u001b[0;34m)\u001b[0m\u001b[0;34m)\u001b[0m \u001b[0;34m+\u001b[0m \u001b[0;34m'.h5'\u001b[0m\u001b[0;34m)\u001b[0m\u001b[0;34m\u001b[0m\u001b[0m\n",
      "\u001b[0;32m~/.local/lib/python3.5/site-packages/keras/models.py\u001b[0m in \u001b[0;36mfit\u001b[0;34m(self, x, y, batch_size, epochs, verbose, callbacks, validation_split, validation_data, shuffle, class_weight, sample_weight, initial_epoch, **kwargs)\u001b[0m\n\u001b[1;32m    868\u001b[0m                               \u001b[0mclass_weight\u001b[0m\u001b[0;34m=\u001b[0m\u001b[0mclass_weight\u001b[0m\u001b[0;34m,\u001b[0m\u001b[0;34m\u001b[0m\u001b[0m\n\u001b[1;32m    869\u001b[0m                               \u001b[0msample_weight\u001b[0m\u001b[0;34m=\u001b[0m\u001b[0msample_weight\u001b[0m\u001b[0;34m,\u001b[0m\u001b[0;34m\u001b[0m\u001b[0m\n\u001b[0;32m--> 870\u001b[0;31m                               initial_epoch=initial_epoch)\n\u001b[0m\u001b[1;32m    871\u001b[0m \u001b[0;34m\u001b[0m\u001b[0m\n\u001b[1;32m    872\u001b[0m     def evaluate(self, x, y, batch_size=32, verbose=1,\n",
      "\u001b[0;32m~/.local/lib/python3.5/site-packages/keras/engine/training.py\u001b[0m in \u001b[0;36mfit\u001b[0;34m(self, x, y, batch_size, epochs, verbose, callbacks, validation_split, validation_data, shuffle, class_weight, sample_weight, initial_epoch, **kwargs)\u001b[0m\n\u001b[1;32m   1505\u001b[0m                               \u001b[0mval_f\u001b[0m\u001b[0;34m=\u001b[0m\u001b[0mval_f\u001b[0m\u001b[0;34m,\u001b[0m \u001b[0mval_ins\u001b[0m\u001b[0;34m=\u001b[0m\u001b[0mval_ins\u001b[0m\u001b[0;34m,\u001b[0m \u001b[0mshuffle\u001b[0m\u001b[0;34m=\u001b[0m\u001b[0mshuffle\u001b[0m\u001b[0;34m,\u001b[0m\u001b[0;34m\u001b[0m\u001b[0m\n\u001b[1;32m   1506\u001b[0m                               \u001b[0mcallback_metrics\u001b[0m\u001b[0;34m=\u001b[0m\u001b[0mcallback_metrics\u001b[0m\u001b[0;34m,\u001b[0m\u001b[0;34m\u001b[0m\u001b[0m\n\u001b[0;32m-> 1507\u001b[0;31m                               initial_epoch=initial_epoch)\n\u001b[0m\u001b[1;32m   1508\u001b[0m \u001b[0;34m\u001b[0m\u001b[0m\n\u001b[1;32m   1509\u001b[0m     \u001b[0;32mdef\u001b[0m \u001b[0mevaluate\u001b[0m\u001b[0;34m(\u001b[0m\u001b[0mself\u001b[0m\u001b[0;34m,\u001b[0m \u001b[0mx\u001b[0m\u001b[0;34m,\u001b[0m \u001b[0my\u001b[0m\u001b[0;34m,\u001b[0m \u001b[0mbatch_size\u001b[0m\u001b[0;34m=\u001b[0m\u001b[0;36m32\u001b[0m\u001b[0;34m,\u001b[0m \u001b[0mverbose\u001b[0m\u001b[0;34m=\u001b[0m\u001b[0;36m1\u001b[0m\u001b[0;34m,\u001b[0m \u001b[0msample_weight\u001b[0m\u001b[0;34m=\u001b[0m\u001b[0;32mNone\u001b[0m\u001b[0;34m)\u001b[0m\u001b[0;34m:\u001b[0m\u001b[0;34m\u001b[0m\u001b[0m\n",
      "\u001b[0;32m~/.local/lib/python3.5/site-packages/keras/engine/training.py\u001b[0m in \u001b[0;36m_fit_loop\u001b[0;34m(self, f, ins, out_labels, batch_size, epochs, verbose, callbacks, val_f, val_ins, shuffle, callback_metrics, initial_epoch)\u001b[0m\n\u001b[1;32m   1154\u001b[0m                 \u001b[0mbatch_logs\u001b[0m\u001b[0;34m[\u001b[0m\u001b[0;34m'size'\u001b[0m\u001b[0;34m]\u001b[0m \u001b[0;34m=\u001b[0m \u001b[0mlen\u001b[0m\u001b[0;34m(\u001b[0m\u001b[0mbatch_ids\u001b[0m\u001b[0;34m)\u001b[0m\u001b[0;34m\u001b[0m\u001b[0m\n\u001b[1;32m   1155\u001b[0m                 \u001b[0mcallbacks\u001b[0m\u001b[0;34m.\u001b[0m\u001b[0mon_batch_begin\u001b[0m\u001b[0;34m(\u001b[0m\u001b[0mbatch_index\u001b[0m\u001b[0;34m,\u001b[0m \u001b[0mbatch_logs\u001b[0m\u001b[0;34m)\u001b[0m\u001b[0;34m\u001b[0m\u001b[0m\n\u001b[0;32m-> 1156\u001b[0;31m                 \u001b[0mouts\u001b[0m \u001b[0;34m=\u001b[0m \u001b[0mf\u001b[0m\u001b[0;34m(\u001b[0m\u001b[0mins_batch\u001b[0m\u001b[0;34m)\u001b[0m\u001b[0;34m\u001b[0m\u001b[0m\n\u001b[0m\u001b[1;32m   1157\u001b[0m                 \u001b[0;32mif\u001b[0m \u001b[0;32mnot\u001b[0m \u001b[0misinstance\u001b[0m\u001b[0;34m(\u001b[0m\u001b[0mouts\u001b[0m\u001b[0;34m,\u001b[0m \u001b[0mlist\u001b[0m\u001b[0;34m)\u001b[0m\u001b[0;34m:\u001b[0m\u001b[0;34m\u001b[0m\u001b[0m\n\u001b[1;32m   1158\u001b[0m                     \u001b[0mouts\u001b[0m \u001b[0;34m=\u001b[0m \u001b[0;34m[\u001b[0m\u001b[0mouts\u001b[0m\u001b[0;34m]\u001b[0m\u001b[0;34m\u001b[0m\u001b[0m\n",
      "\u001b[0;32m~/.local/lib/python3.5/site-packages/keras/backend/tensorflow_backend.py\u001b[0m in \u001b[0;36m__call__\u001b[0;34m(self, inputs)\u001b[0m\n\u001b[1;32m   2267\u001b[0m         updated = session.run(self.outputs + [self.updates_op],\n\u001b[1;32m   2268\u001b[0m                               \u001b[0mfeed_dict\u001b[0m\u001b[0;34m=\u001b[0m\u001b[0mfeed_dict\u001b[0m\u001b[0;34m,\u001b[0m\u001b[0;34m\u001b[0m\u001b[0m\n\u001b[0;32m-> 2269\u001b[0;31m                               **self.session_kwargs)\n\u001b[0m\u001b[1;32m   2270\u001b[0m         \u001b[0;32mreturn\u001b[0m \u001b[0mupdated\u001b[0m\u001b[0;34m[\u001b[0m\u001b[0;34m:\u001b[0m\u001b[0mlen\u001b[0m\u001b[0;34m(\u001b[0m\u001b[0mself\u001b[0m\u001b[0;34m.\u001b[0m\u001b[0moutputs\u001b[0m\u001b[0;34m)\u001b[0m\u001b[0;34m]\u001b[0m\u001b[0;34m\u001b[0m\u001b[0m\n\u001b[1;32m   2271\u001b[0m \u001b[0;34m\u001b[0m\u001b[0m\n",
      "\u001b[0;32m~/.local/lib/python3.5/site-packages/tensorflow/python/client/session.py\u001b[0m in \u001b[0;36mrun\u001b[0;34m(self, fetches, feed_dict, options, run_metadata)\u001b[0m\n\u001b[1;32m    787\u001b[0m     \u001b[0;32mtry\u001b[0m\u001b[0;34m:\u001b[0m\u001b[0;34m\u001b[0m\u001b[0m\n\u001b[1;32m    788\u001b[0m       result = self._run(None, fetches, feed_dict, options_ptr,\n\u001b[0;32m--> 789\u001b[0;31m                          run_metadata_ptr)\n\u001b[0m\u001b[1;32m    790\u001b[0m       \u001b[0;32mif\u001b[0m \u001b[0mrun_metadata\u001b[0m\u001b[0;34m:\u001b[0m\u001b[0;34m\u001b[0m\u001b[0m\n\u001b[1;32m    791\u001b[0m         \u001b[0mproto_data\u001b[0m \u001b[0;34m=\u001b[0m \u001b[0mtf_session\u001b[0m\u001b[0;34m.\u001b[0m\u001b[0mTF_GetBuffer\u001b[0m\u001b[0;34m(\u001b[0m\u001b[0mrun_metadata_ptr\u001b[0m\u001b[0;34m)\u001b[0m\u001b[0;34m\u001b[0m\u001b[0m\n",
      "\u001b[0;32m~/.local/lib/python3.5/site-packages/tensorflow/python/client/session.py\u001b[0m in \u001b[0;36m_run\u001b[0;34m(self, handle, fetches, feed_dict, options, run_metadata)\u001b[0m\n\u001b[1;32m    995\u001b[0m     \u001b[0;32mif\u001b[0m \u001b[0mfinal_fetches\u001b[0m \u001b[0;32mor\u001b[0m \u001b[0mfinal_targets\u001b[0m\u001b[0;34m:\u001b[0m\u001b[0;34m\u001b[0m\u001b[0m\n\u001b[1;32m    996\u001b[0m       results = self._do_run(handle, final_targets, final_fetches,\n\u001b[0;32m--> 997\u001b[0;31m                              feed_dict_string, options, run_metadata)\n\u001b[0m\u001b[1;32m    998\u001b[0m     \u001b[0;32melse\u001b[0m\u001b[0;34m:\u001b[0m\u001b[0;34m\u001b[0m\u001b[0m\n\u001b[1;32m    999\u001b[0m       \u001b[0mresults\u001b[0m \u001b[0;34m=\u001b[0m \u001b[0;34m[\u001b[0m\u001b[0;34m]\u001b[0m\u001b[0;34m\u001b[0m\u001b[0m\n",
      "\u001b[0;32m~/.local/lib/python3.5/site-packages/tensorflow/python/client/session.py\u001b[0m in \u001b[0;36m_do_run\u001b[0;34m(self, handle, target_list, fetch_list, feed_dict, options, run_metadata)\u001b[0m\n\u001b[1;32m   1130\u001b[0m     \u001b[0;32mif\u001b[0m \u001b[0mhandle\u001b[0m \u001b[0;32mis\u001b[0m \u001b[0;32mNone\u001b[0m\u001b[0;34m:\u001b[0m\u001b[0;34m\u001b[0m\u001b[0m\n\u001b[1;32m   1131\u001b[0m       return self._do_call(_run_fn, self._session, feed_dict, fetch_list,\n\u001b[0;32m-> 1132\u001b[0;31m                            target_list, options, run_metadata)\n\u001b[0m\u001b[1;32m   1133\u001b[0m     \u001b[0;32melse\u001b[0m\u001b[0;34m:\u001b[0m\u001b[0;34m\u001b[0m\u001b[0m\n\u001b[1;32m   1134\u001b[0m       return self._do_call(_prun_fn, self._session, handle, feed_dict,\n",
      "\u001b[0;32m~/.local/lib/python3.5/site-packages/tensorflow/python/client/session.py\u001b[0m in \u001b[0;36m_do_call\u001b[0;34m(self, fn, *args)\u001b[0m\n\u001b[1;32m   1137\u001b[0m   \u001b[0;32mdef\u001b[0m \u001b[0m_do_call\u001b[0m\u001b[0;34m(\u001b[0m\u001b[0mself\u001b[0m\u001b[0;34m,\u001b[0m \u001b[0mfn\u001b[0m\u001b[0;34m,\u001b[0m \u001b[0;34m*\u001b[0m\u001b[0margs\u001b[0m\u001b[0;34m)\u001b[0m\u001b[0;34m:\u001b[0m\u001b[0;34m\u001b[0m\u001b[0m\n\u001b[1;32m   1138\u001b[0m     \u001b[0;32mtry\u001b[0m\u001b[0;34m:\u001b[0m\u001b[0;34m\u001b[0m\u001b[0m\n\u001b[0;32m-> 1139\u001b[0;31m       \u001b[0;32mreturn\u001b[0m \u001b[0mfn\u001b[0m\u001b[0;34m(\u001b[0m\u001b[0;34m*\u001b[0m\u001b[0margs\u001b[0m\u001b[0;34m)\u001b[0m\u001b[0;34m\u001b[0m\u001b[0m\n\u001b[0m\u001b[1;32m   1140\u001b[0m     \u001b[0;32mexcept\u001b[0m \u001b[0merrors\u001b[0m\u001b[0;34m.\u001b[0m\u001b[0mOpError\u001b[0m \u001b[0;32mas\u001b[0m \u001b[0me\u001b[0m\u001b[0;34m:\u001b[0m\u001b[0;34m\u001b[0m\u001b[0m\n\u001b[1;32m   1141\u001b[0m       \u001b[0mmessage\u001b[0m \u001b[0;34m=\u001b[0m \u001b[0mcompat\u001b[0m\u001b[0;34m.\u001b[0m\u001b[0mas_text\u001b[0m\u001b[0;34m(\u001b[0m\u001b[0me\u001b[0m\u001b[0;34m.\u001b[0m\u001b[0mmessage\u001b[0m\u001b[0;34m)\u001b[0m\u001b[0;34m\u001b[0m\u001b[0m\n",
      "\u001b[0;32m~/.local/lib/python3.5/site-packages/tensorflow/python/client/session.py\u001b[0m in \u001b[0;36m_run_fn\u001b[0;34m(session, feed_dict, fetch_list, target_list, options, run_metadata)\u001b[0m\n\u001b[1;32m   1119\u001b[0m         return tf_session.TF_Run(session, options,\n\u001b[1;32m   1120\u001b[0m                                  \u001b[0mfeed_dict\u001b[0m\u001b[0;34m,\u001b[0m \u001b[0mfetch_list\u001b[0m\u001b[0;34m,\u001b[0m \u001b[0mtarget_list\u001b[0m\u001b[0;34m,\u001b[0m\u001b[0;34m\u001b[0m\u001b[0m\n\u001b[0;32m-> 1121\u001b[0;31m                                  status, run_metadata)\n\u001b[0m\u001b[1;32m   1122\u001b[0m \u001b[0;34m\u001b[0m\u001b[0m\n\u001b[1;32m   1123\u001b[0m     \u001b[0;32mdef\u001b[0m \u001b[0m_prun_fn\u001b[0m\u001b[0;34m(\u001b[0m\u001b[0msession\u001b[0m\u001b[0;34m,\u001b[0m \u001b[0mhandle\u001b[0m\u001b[0;34m,\u001b[0m \u001b[0mfeed_dict\u001b[0m\u001b[0;34m,\u001b[0m \u001b[0mfetch_list\u001b[0m\u001b[0;34m)\u001b[0m\u001b[0;34m:\u001b[0m\u001b[0;34m\u001b[0m\u001b[0m\n",
      "\u001b[0;31mKeyboardInterrupt\u001b[0m: "
     ]
    }
   ],
   "source": [
    "epochs = 500\n",
    "for i in range(6):\n",
    "    model.fit(x, y, batch_size = batchSize, epochs = epochs, verbose = 1)\n",
    "    model.save('CNN_face_keypoint' + str((epochs * i + 500)) + '.h5')"
   ]
  },
  {
   "cell_type": "code",
   "execution_count": null,
   "metadata": {
    "collapsed": true
   },
   "outputs": [],
   "source": []
  }
 ],
 "metadata": {
  "kernelspec": {
   "display_name": "Python 3",
   "language": "python",
   "name": "python3"
  },
  "language_info": {
   "codemirror_mode": {
    "name": "ipython",
    "version": 3
   },
   "file_extension": ".py",
   "mimetype": "text/x-python",
   "name": "python",
   "nbconvert_exporter": "python",
   "pygments_lexer": "ipython3",
   "version": "3.5.2"
  }
 },
 "nbformat": 4,
 "nbformat_minor": 2
}
