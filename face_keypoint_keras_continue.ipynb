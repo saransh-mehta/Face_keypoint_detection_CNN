{
 "cells": [
  {
   "cell_type": "code",
   "execution_count": 1,
   "metadata": {},
   "outputs": [
    {
     "name": "stderr",
     "output_type": "stream",
     "text": [
      "Using TensorFlow backend.\n"
     ]
    }
   ],
   "source": [
    "from keras.models import load_model"
   ]
  },
  {
   "cell_type": "code",
   "execution_count": 80,
   "metadata": {
    "collapsed": true
   },
   "outputs": [],
   "source": [
    "import os\n",
    "import pandas as pd\n",
    "import numpy as np\n",
    "import matplotlib.pyplot as plt\n",
    "from PIL import Image"
   ]
  },
  {
   "cell_type": "code",
   "execution_count": 81,
   "metadata": {},
   "outputs": [
    {
     "data": {
      "image/png": "[encoded data removed]",
      "text/plain": [
       "<matplotlib.figure.Figure at 0x7fb9a8193dd8>"
      ]
     },
     "metadata": {},
     "output_type": "display_data"
    }
   ],
   "source": [
    "# we ll open image which we want to predict\n",
    "\n",
    "imgSize = (96, 96)\n",
    "\n",
    "img = Image.open('saransh_pic.jpg')\n",
    "img = img.resize(imgSize)\n",
    "img = img.convert('L')\n",
    "plot = plt.imshow(img, cmap = 'gray')\n",
    "plt.show()"
   ]
  },
  {
   "cell_type": "code",
   "execution_count": 104,
   "metadata": {},
   "outputs": [],
   "source": [
    "path = os.path.abspath('face_keypoint_trained')\n",
    "modelPath = os.path.join(path, 'CNN_face_keypoint2000.h5')\n",
    "model = load_model(modelPath)"
   ]
  },
  {
   "cell_type": "code",
   "execution_count": 105,
   "metadata": {
    "collapsed": true
   },
   "outputs": [],
   "source": [
    "# loading test data to predict on\n",
    "\n",
    "testPath = '/home/saransh/Desktop/keras/face_keypoint_dataset/test.csv'\n",
    "dfTest = pd.read_csv(testPath)"
   ]
  },
  {
   "cell_type": "code",
   "execution_count": 106,
   "metadata": {
    "scrolled": true
   },
   "outputs": [
    {
     "data": {
      "text/plain": [
       "0       [182.0, 183.0, 182.0, 182.0, 180.0, 180.0, 176...\n",
       "1       [76.0, 87.0, 81.0, 72.0, 65.0, 59.0, 64.0, 76....\n",
       "2       [177.0, 176.0, 174.0, 170.0, 169.0, 169.0, 168...\n",
       "3       [176.0, 174.0, 174.0, 175.0, 174.0, 174.0, 176...\n",
       "4       [50.0, 47.0, 44.0, 101.0, 144.0, 149.0, 120.0,...\n",
       "5       [177.0, 177.0, 177.0, 171.0, 142.0, 115.0, 97....\n",
       "6       [77.0, 55.0, 44.0, 56.0, 58.0, 61.0, 67.0, 66....\n",
       "7       [156.0, 160.0, 162.0, 166.0, 150.0, 114.0, 97....\n",
       "8       [230.0, 230.0, 231.0, 231.0, 231.0, 231.0, 231...\n",
       "9       [132.0, 129.0, 126.0, 128.0, 146.0, 163.0, 170...\n",
       "10      [182.0, 182.0, 182.0, 182.0, 182.0, 181.0, 183...\n",
       "11      [207.0, 205.0, 204.0, 202.0, 205.0, 197.0, 184...\n",
       "12      [121.0, 83.0, 58.0, 41.0, 37.0, 36.0, 33.0, 33...\n",
       "13      [89.0, 60.0, 63.0, 65.0, 65.0, 84.0, 64.0, 35....\n",
       "14      [88.0, 112.0, 132.0, 132.0, 133.0, 135.0, 131....\n",
       "15      [153.0, 153.0, 155.0, 156.0, 155.0, 154.0, 153...\n",
       "16      [97.0, 101.0, 98.0, 92.0, 91.0, 91.0, 95.0, 99...\n",
       "17      [253.0, 252.0, 254.0, 236.0, 173.0, 103.0, 67....\n",
       "18      [244.0, 245.0, 250.0, 183.0, 82.0, 64.0, 60.0,...\n",
       "19      [121.0, 122.0, 124.0, 123.0, 133.0, 157.0, 163...\n",
       "20      [252.0, 252.0, 251.0, 249.0, 251.0, 249.0, 246...\n",
       "21      [178.0, 180.0, 181.0, 182.0, 182.0, 181.0, 185...\n",
       "22      [170.0, 170.0, 167.0, 170.0, 168.0, 170.0, 168...\n",
       "23      [202.0, 202.0, 205.0, 204.0, 206.0, 206.0, 206...\n",
       "24      [119.0, 116.0, 106.0, 98.0, 88.0, 70.0, 55.0, ...\n",
       "25      [217.0, 212.0, 133.0, 36.0, 20.0, 27.0, 20.0, ...\n",
       "26      [115.0, 106.0, 100.0, 89.0, 83.0, 85.0, 84.0, ...\n",
       "27      [178.0, 179.0, 181.0, 178.0, 176.0, 172.0, 166...\n",
       "28      [171.0, 158.0, 97.0, 49.0, 43.0, 38.0, 34.0, 2...\n",
       "29      [254.0, 254.0, 254.0, 242.0, 180.0, 118.0, 92....\n",
       "                              ...                        \n",
       "1753    [53.0, 54.0, 51.0, 50.0, 49.0, 52.0, 53.0, 49....\n",
       "1754    [60.0, 61.0, 65.0, 69.0, 75.0, 87.0, 105.0, 11...\n",
       "1755    [66.0, 67.0, 69.0, 71.0, 72.0, 73.0, 73.0, 69....\n",
       "1756    [133.0, 129.0, 129.0, 129.0, 130.0, 133.0, 133...\n",
       "1757    [191.0, 223.0, 233.0, 248.0, 250.0, 231.0, 229...\n",
       "1758    [169.0, 154.0, 142.0, 146.0, 127.0, 114.0, 107...\n",
       "1759    [164.0, 164.0, 164.0, 164.0, 162.0, 159.0, 160...\n",
       "1760    [46.0, 61.0, 78.0, 92.0, 84.0, 71.0, 53.0, 62....\n",
       "1761    [111.0, 124.0, 129.0, 121.0, 105.0, 92.0, 93.0...\n",
       "1762    [9.0, 11.0, 9.0, 8.0, 7.0, 11.0, 9.0, 6.0, 8.0...\n",
       "1763    [26.0, 23.0, 18.0, 17.0, 16.0, 17.0, 17.0, 16....\n",
       "1764    [115.0, 94.0, 49.0, 55.0, 87.0, 101.0, 105.0, ...\n",
       "1765    [195.0, 200.0, 165.0, 145.0, 157.0, 140.0, 75....\n",
       "1766    [182.0, 185.0, 178.0, 190.0, 173.0, 161.0, 164...\n",
       "1767    [255.0, 255.0, 255.0, 255.0, 255.0, 255.0, 255...\n",
       "1768    [150.0, 170.0, 177.0, 180.0, 171.0, 181.0, 175...\n",
       "1769    [129.0, 179.0, 157.0, 123.0, 98.0, 89.0, 96.0,...\n",
       "1770    [59.0, 59.0, 64.0, 59.0, 57.0, 57.0, 59.0, 58....\n",
       "1771    [130.0, 120.0, 110.0, 111.0, 126.0, 137.0, 110...\n",
       "1772    [129.0, 122.0, 91.0, 64.0, 65.0, 73.0, 69.0, 6...\n",
       "1773    [213.0, 213.0, 212.0, 213.0, 213.0, 212.0, 188...\n",
       "1774    [123.0, 131.0, 106.0, 54.0, 24.0, 20.0, 17.0, ...\n",
       "1775    [142.0, 131.0, 114.0, 108.0, 107.0, 125.0, 145...\n",
       "1776    [71.0, 71.0, 70.0, 69.0, 69.0, 70.0, 74.0, 77....\n",
       "1777    [100.0, 106.0, 105.0, 106.0, 105.0, 104.0, 104...\n",
       "1778    [101.0, 101.0, 101.0, 100.0, 100.0, 97.0, 97.0...\n",
       "1779    [201.0, 191.0, 171.0, 158.0, 145.0, 140.0, 136...\n",
       "1780    [28.0, 28.0, 29.0, 30.0, 31.0, 32.0, 33.0, 34....\n",
       "1781    [104.0, 95.0, 71.0, 57.0, 46.0, 52.0, 65.0, 70...\n",
       "1782    [63.0, 61.0, 64.0, 66.0, 66.0, 64.0, 65.0, 70....\n",
       "Name: Image, Length: 1783, dtype: object"
      ]
     },
     "execution_count": 106,
     "metadata": {},
     "output_type": "execute_result"
    }
   ],
   "source": [
    "dfTest['Image'] = dfTest['Image'].apply(lambda img: np.fromstring(img, sep = ' ', dtype = np.float32))\n",
    "dfTest = dfTest.dropna()\n",
    "#dfTest.count()\n",
    "dfTest['Image']"
   ]
  },
  {
   "cell_type": "code",
   "execution_count": 107,
   "metadata": {},
   "outputs": [
    {
     "data": {
      "text/plain": [
       "(1783, 96, 96, 1)"
      ]
     },
     "execution_count": 107,
     "metadata": {},
     "output_type": "execute_result"
    }
   ],
   "source": [
    "xT = np.vstack(dfTest['Image'])\n",
    "# this will vertically join the image column\n",
    "# this will give (2140, 9216) as 96*96 = 9216\n",
    "xT = xT / 255 # normalization\n",
    "xT.shape\n",
    "# here we see we have 1783 images for test\n",
    "\n",
    "# now similarly we ll reshape\n",
    "xTest = []\n",
    "\n",
    "for image in xT:\n",
    "    imgMat = image.reshape(96, 96, 1)\n",
    "    xTest.append(imgMat)\n",
    "xTest = np.array(xTest)\n",
    "xTest.shape"
   ]
  },
  {
   "cell_type": "code",
   "execution_count": 85,
   "metadata": {},
   "outputs": [
    {
     "data": {
      "text/plain": [
       "(3, 96, 96, 1)"
      ]
     },
     "execution_count": 85,
     "metadata": {},
     "output_type": "execute_result"
    }
   ],
   "source": [
    "xT = np.vstack(dfTest['Image'].iloc[1:3])\n",
    "# this will vertically join the image column\n",
    "# this will give (2140, 9216) as 96*96 = 9216\n",
    "xT = xT / 255 # normalization\n",
    "xT.shape\n",
    "# here we see we have 1783 images for test\n",
    "\n",
    "# now similarly we ll reshape\n",
    "xTest = []\n",
    "\n",
    "for image in xT:\n",
    "    imgMat = image.reshape(96, 96, 1)\n",
    "    xTest.append(imgMat)\n",
    "img = np.array(img)\n",
    "img = img.reshape(96, 96, 1)\n",
    "xTest.append(img)\n",
    "xTest = np.array(xTest)\n",
    "xTest.shape"
   ]
  },
  {
   "cell_type": "code",
   "execution_count": 108,
   "metadata": {
    "scrolled": true
   },
   "outputs": [],
   "source": [
    "sample = xTest\n",
    "predict = model.predict(xTest)"
   ]
  },
  {
   "cell_type": "code",
   "execution_count": 146,
   "metadata": {},
   "outputs": [
    {
     "name": "stdout",
     "output_type": "stream",
     "text": [
      "[ 66.07455444  36.77997589  29.48656654  37.16204453  59.15109253\n",
      "  37.90202332  73.49263     37.59984207  36.48207855  38.00143433\n",
      "  22.11026764  38.14602661  55.99011612  29.31443405  79.65586853\n",
      "  29.50234222  39.32080841  29.61790657  15.57249451  30.72086906\n",
      "  48.15742111  57.46614838  63.45488739  75.87349701  33.08215332\n",
      "  76.20100403  48.1695137   72.75885773  48.24238968  82.68359375]\n"
     ]
    }
   ],
   "source": [
    "number = 369\n",
    "samplePredict = predict[number]\n",
    "print(samplePredict * 48 + 48)"
   ]
  },
  {
   "cell_type": "code",
   "execution_count": 144,
   "metadata": {},
   "outputs": [],
   "source": [
    "xCord = []\n",
    "yCord = []\n",
    "for i in range(0, len(samplePredict), 2):\n",
    "    xCord.append(samplePredict[i]*48 + 48)\n",
    "    yCord.append(samplePredict[i+1]*48 + 48)"
   ]
  },
  {
   "cell_type": "code",
   "execution_count": 147,
   "metadata": {},
   "outputs": [
    {
     "name": "stdout",
     "output_type": "stream",
     "text": [
      "[66.074551105499268, 29.486566543579102, 59.151093721389771, 73.492632865905762, 36.48207950592041, 22.110268592834473, 55.990116119384766, 79.655865669250488, 39.320807218551636, 15.57249641418457, 48.157421641051769, 63.454888343811035, 33.082151412963867, 48.169514022767544, 48.242391049861908]\n"
     ]
    },
    {
     "data": {
      "image/png": "[encoded data removed]",
      "text/plain": [
       "<matplotlib.figure.Figure at 0x7fb975b29a90>"
      ]
     },
     "metadata": {},
     "output_type": "display_data"
    }
   ],
   "source": [
    "imPlot = sample[number].reshape(96, 96)\n",
    "plt.imshow(imPlot, cmap = 'gray')\n",
    "plt.scatter(xCord, yCord, s = 15, c ='r')\n",
    "print(xCord)\n",
    "plt.show()"
   ]
  },
  {
   "cell_type": "code",
   "execution_count": null,
   "metadata": {
    "collapsed": true
   },
   "outputs": [],
   "source": []
  }
 ],
 "metadata": {
  "kernelspec": {
   "display_name": "Python 3",
   "language": "python",
   "name": "python3"
  },
  "language_info": {
   "codemirror_mode": {
    "name": "ipython",
    "version": 3
   },
   "file_extension": ".py",
   "mimetype": "text/x-python",
   "name": "python",
   "nbconvert_exporter": "python",
   "pygments_lexer": "ipython3",
   "version": "3.5.2"
  }
 },
 "nbformat": 4,
 "nbformat_minor": 2
}
